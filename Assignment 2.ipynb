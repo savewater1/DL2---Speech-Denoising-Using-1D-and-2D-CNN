{
 "cells": [
  {
   "cell_type": "code",
   "execution_count": 1,
   "metadata": {},
   "outputs": [
    {
     "name": "stderr",
     "output_type": "stream",
     "text": [
      "Using TensorFlow backend.\n"
     ]
    }
   ],
   "source": [
    "# Importing Necessary Libraries\n",
    "\n",
    "import numpy as np\n",
    "import pandas as pd\n",
    "from keras.models import Sequential\n",
    "from keras import models\n",
    "from keras.layers import Dense, Conv1D, Conv2D, Flatten, MaxPooling1D, MaxPooling2D\n",
    "from keras.optimizers import Adam\n",
    "import matplotlib.pyplot as plt\n",
    "import seaborn as sns\n",
    "import librosa\n",
    "from keras.layers import Dropout"
   ]
  },
  {
   "cell_type": "markdown",
   "metadata": {},
   "source": [
    "## TASK 1\n",
    "In this problem, we are trying to remove the sound of eating chips from various sound signals using 1D CNN. CNN is very good at finding local patterns and hence can be used in sequence processing. We are given the following set of audio signals for training and we have to train a deep neural network, containing 1D CNN and fully connected layers, for denoising speech signals.  \n",
    "#### Clean Training Signal\n",
    "<audio src=\"data/train_clean_male.wav\" controls>Audio file not availablle</audio>\n",
    "#### Dirty Training Signal\n",
    "<audio src=\"data/train_dirty_male.wav\" controls>Audio file not availablle</audio>"
   ]
  },
  {
   "cell_type": "code",
   "execution_count": 2,
   "metadata": {},
   "outputs": [],
   "source": [
    "# Loading the .wav files\n",
    "# Ground Truth for training\n",
    "s, sr=librosa.load(r'data\\train_clean_male.wav', sr=None)\n",
    "S=librosa.stft(s, n_fft=1024, hop_length=512)\n",
    "# Unclean train file\n",
    "sn, sr=librosa.load(r'data\\train_dirty_male.wav', sr=None)\n",
    "X=librosa.stft(sn, n_fft=1024, hop_length=512)\n",
    "# Test 1\n",
    "tn, sr=librosa.load(r'data\\test_x_01.wav', sr=None)\n",
    "A = librosa.stft(tn, n_fft=1024, hop_length=512)\n",
    "# Test 2\n",
    "t, sr=librosa.load(r'data\\test_x_02.wav', sr=None)\n",
    "B = librosa.stft(t, n_fft=1024, hop_length=512)"
   ]
  },
  {
   "cell_type": "code",
   "execution_count": 3,
   "metadata": {},
   "outputs": [],
   "source": [
    "# Obtaining amplitude\n",
    "y_data = np.abs(S).T\n",
    "X_data = np.abs(X).T\n",
    "# 90% of training data is used fr training and rest 10% for validation\n",
    "X_train = X_data[:int(X_data.shape[0]*0.9)]\n",
    "X_valid = X_data[int(X_data.shape[0]*0.9):]\n",
    "y_train = y_data[:int(y_data.shape[0]*0.9)]\n",
    "y_valid = y_data[int(y_data.shape[0]*0.9):]\n",
    "# Test Data\n",
    "X_test1 = np.abs(A).T\n",
    "X_test2 = np.abs(B).T"
   ]
  },
  {
   "cell_type": "code",
   "execution_count": 4,
   "metadata": {},
   "outputs": [],
   "source": [
    "# Expanding dimension of data\n",
    "X_train = X_train[:,:,np.newaxis]\n",
    "X_valid = X_valid[:,:,np.newaxis]\n",
    "X_test1 = X_test1[:,:,np.newaxis]\n",
    "X_test2 = X_test2[:,:,np.newaxis]"
   ]
  },
  {
   "cell_type": "code",
   "execution_count": 5,
   "metadata": {},
   "outputs": [
    {
     "name": "stdout",
     "output_type": "stream",
     "text": [
      "WARNING:tensorflow:From D:\\Anaconda3\\lib\\site-packages\\keras\\backend\\tensorflow_backend.py:74: The name tf.get_default_graph is deprecated. Please use tf.compat.v1.get_default_graph instead.\n",
      "\n",
      "WARNING:tensorflow:From D:\\Anaconda3\\lib\\site-packages\\keras\\backend\\tensorflow_backend.py:517: The name tf.placeholder is deprecated. Please use tf.compat.v1.placeholder instead.\n",
      "\n",
      "WARNING:tensorflow:From D:\\Anaconda3\\lib\\site-packages\\keras\\backend\\tensorflow_backend.py:4185: The name tf.truncated_normal is deprecated. Please use tf.random.truncated_normal instead.\n",
      "\n",
      "WARNING:tensorflow:From D:\\Anaconda3\\lib\\site-packages\\keras\\backend\\tensorflow_backend.py:3976: The name tf.nn.max_pool is deprecated. Please use tf.nn.max_pool2d instead.\n",
      "\n",
      "WARNING:tensorflow:From D:\\Anaconda3\\lib\\site-packages\\keras\\backend\\tensorflow_backend.py:133: The name tf.placeholder_with_default is deprecated. Please use tf.compat.v1.placeholder_with_default instead.\n",
      "\n",
      "WARNING:tensorflow:From D:\\Anaconda3\\lib\\site-packages\\keras\\backend\\tensorflow_backend.py:3445: calling dropout (from tensorflow.python.ops.nn_ops) with keep_prob is deprecated and will be removed in a future version.\n",
      "Instructions for updating:\n",
      "Please use `rate` instead of `keep_prob`. Rate should be set to `rate = 1 - keep_prob`.\n"
     ]
    }
   ],
   "source": [
    "# Defining the model architecture\n",
    "model = Sequential()\n",
    "model.add(Conv1D(32, 7, input_shape = (513,1), padding='same', activation='relu', kernel_initializer='he_normal'))\n",
    "model.add(MaxPooling1D(2))\n",
    "model.add(Conv1D(64, 5, padding='same', activation='relu', kernel_initializer='he_normal'))\n",
    "model.add(MaxPooling1D(2))\n",
    "model.add(Flatten())\n",
    "model.add(Dense(1024, activation='relu', kernel_initializer='he_normal'))\n",
    "model.add(Dropout(0.3))\n",
    "model.add(Dense(513, activation='relu', kernel_initializer='he_normal'))"
   ]
  },
  {
   "cell_type": "code",
   "execution_count": 6,
   "metadata": {},
   "outputs": [
    {
     "name": "stdout",
     "output_type": "stream",
     "text": [
      "_________________________________________________________________\n",
      "Layer (type)                 Output Shape              Param #   \n",
      "=================================================================\n",
      "conv1d_1 (Conv1D)            (None, 513, 32)           256       \n",
      "_________________________________________________________________\n",
      "max_pooling1d_1 (MaxPooling1 (None, 256, 32)           0         \n",
      "_________________________________________________________________\n",
      "conv1d_2 (Conv1D)            (None, 256, 64)           10304     \n",
      "_________________________________________________________________\n",
      "max_pooling1d_2 (MaxPooling1 (None, 128, 64)           0         \n",
      "_________________________________________________________________\n",
      "flatten_1 (Flatten)          (None, 8192)              0         \n",
      "_________________________________________________________________\n",
      "dense_1 (Dense)              (None, 1024)              8389632   \n",
      "_________________________________________________________________\n",
      "dropout_1 (Dropout)          (None, 1024)              0         \n",
      "_________________________________________________________________\n",
      "dense_2 (Dense)              (None, 513)               525825    \n",
      "=================================================================\n",
      "Total params: 8,926,017\n",
      "Trainable params: 8,926,017\n",
      "Non-trainable params: 0\n",
      "_________________________________________________________________\n",
      "None\n"
     ]
    }
   ],
   "source": [
    "# Model Summary\n",
    "print(model.summary())"
   ]
  },
  {
   "cell_type": "code",
   "execution_count": 7,
   "metadata": {},
   "outputs": [
    {
     "name": "stdout",
     "output_type": "stream",
     "text": [
      "WARNING:tensorflow:From D:\\Anaconda3\\lib\\site-packages\\keras\\optimizers.py:790: The name tf.train.Optimizer is deprecated. Please use tf.compat.v1.train.Optimizer instead.\n",
      "\n"
     ]
    }
   ],
   "source": [
    "# Compiling the model\n",
    "model.compile(loss = 'MSE', optimizer = Adam(), metrics = ['accuracy'])"
   ]
  },
  {
   "cell_type": "code",
   "execution_count": 8,
   "metadata": {},
   "outputs": [
    {
     "name": "stdout",
     "output_type": "stream",
     "text": [
      "WARNING:tensorflow:From D:\\Anaconda3\\lib\\site-packages\\keras\\backend\\tensorflow_backend.py:986: The name tf.assign_add is deprecated. Please use tf.compat.v1.assign_add instead.\n",
      "\n",
      "Train on 2213 samples, validate on 246 samples\n",
      "Epoch 1/20\n",
      "2213/2213 [==============================] - 24s 11ms/step - loss: 0.0975 - acc: 0.0538 - val_loss: 0.0301 - val_acc: 0.0854\n",
      "Epoch 2/20\n",
      "2213/2213 [==============================] - 0s 160us/step - loss: 0.0533 - acc: 0.1405 - val_loss: 0.0240 - val_acc: 0.2154\n",
      "Epoch 3/20\n",
      "2213/2213 [==============================] - 0s 160us/step - loss: 0.0391 - acc: 0.2300 - val_loss: 0.0198 - val_acc: 0.2683\n",
      "Epoch 4/20\n",
      "2213/2213 [==============================] - 0s 157us/step - loss: 0.0314 - acc: 0.2815 - val_loss: 0.0178 - val_acc: 0.3618\n",
      "Epoch 5/20\n",
      "2213/2213 [==============================] - 0s 157us/step - loss: 0.0283 - acc: 0.3037 - val_loss: 0.0166 - val_acc: 0.3455\n",
      "Epoch 6/20\n",
      "2213/2213 [==============================] - 0s 158us/step - loss: 0.0262 - acc: 0.3186 - val_loss: 0.0149 - val_acc: 0.4024\n",
      "Epoch 7/20\n",
      "2213/2213 [==============================] - 0s 159us/step - loss: 0.0239 - acc: 0.3290 - val_loss: 0.0144 - val_acc: 0.3455\n",
      "Epoch 8/20\n",
      "2213/2213 [==============================] - 0s 158us/step - loss: 0.0228 - acc: 0.3434 - val_loss: 0.0135 - val_acc: 0.3862\n",
      "Epoch 9/20\n",
      "2213/2213 [==============================] - 0s 159us/step - loss: 0.0213 - acc: 0.3488 - val_loss: 0.0131 - val_acc: 0.3902\n",
      "Epoch 10/20\n",
      "2213/2213 [==============================] - 0s 157us/step - loss: 0.0203 - acc: 0.3647 - val_loss: 0.0123 - val_acc: 0.3984\n",
      "Epoch 11/20\n",
      "2213/2213 [==============================] - 0s 159us/step - loss: 0.0193 - acc: 0.3597 - val_loss: 0.0120 - val_acc: 0.3577\n",
      "Epoch 12/20\n",
      "2213/2213 [==============================] - 0s 159us/step - loss: 0.0183 - acc: 0.3696 - val_loss: 0.0122 - val_acc: 0.3821\n",
      "Epoch 13/20\n",
      "2213/2213 [==============================] - 0s 159us/step - loss: 0.0179 - acc: 0.3601 - val_loss: 0.0112 - val_acc: 0.3740\n",
      "Epoch 14/20\n",
      "2213/2213 [==============================] - 0s 160us/step - loss: 0.0178 - acc: 0.3687 - val_loss: 0.0113 - val_acc: 0.3902\n",
      "Epoch 15/20\n",
      "2213/2213 [==============================] - 0s 159us/step - loss: 0.0175 - acc: 0.3746 - val_loss: 0.0118 - val_acc: 0.3943\n",
      "Epoch 16/20\n",
      "2213/2213 [==============================] - 0s 159us/step - loss: 0.0165 - acc: 0.3742 - val_loss: 0.0106 - val_acc: 0.4065\n",
      "Epoch 17/20\n",
      "2213/2213 [==============================] - 0s 158us/step - loss: 0.0153 - acc: 0.3701 - val_loss: 0.0104 - val_acc: 0.3984\n",
      "Epoch 18/20\n",
      "2213/2213 [==============================] - 0s 159us/step - loss: 0.0147 - acc: 0.3868 - val_loss: 0.0099 - val_acc: 0.4024\n",
      "Epoch 19/20\n",
      "2213/2213 [==============================] - 0s 158us/step - loss: 0.0142 - acc: 0.3823 - val_loss: 0.0098 - val_acc: 0.3943\n",
      "Epoch 20/20\n",
      "2213/2213 [==============================] - 0s 158us/step - loss: 0.0140 - acc: 0.3859 - val_loss: 0.0100 - val_acc: 0.3943\n"
     ]
    }
   ],
   "source": [
    "# Training the model on data\n",
    "history = model.fit(X_train, y_train, epochs = 20, batch_size = 128, validation_data = (X_valid, y_valid))"
   ]
  },
  {
   "cell_type": "code",
   "execution_count": 9,
   "metadata": {},
   "outputs": [],
   "source": [
    "# Getting output prediction for test files\n",
    "outt = model.predict(X_data[:,:,np.newaxis])\n",
    "out1 = model.predict(X_test1)\n",
    "out2 = model.predict(X_test2)"
   ]
  },
  {
   "cell_type": "code",
   "execution_count": 10,
   "metadata": {},
   "outputs": [],
   "source": [
    "# Adding phase information\n",
    "stestt = (X/np.abs(X))*outt.T\n",
    "stest1 = (A/np.abs(A))*out1.T\n",
    "stest2 = (B/np.abs(B))*out2.T"
   ]
  },
  {
   "cell_type": "code",
   "execution_count": 11,
   "metadata": {},
   "outputs": [
    {
     "name": "stdout",
     "output_type": "stream",
     "text": [
      "SNR: (17.173919677734375+4.238504469394684j)\n"
     ]
    }
   ],
   "source": [
    "# SNR for training data\n",
    "snr = 10*np.log10(np.add.reduce(np.square(S), axis = None)/np.add.reduce(np.square(S-stestt), axis = None))\n",
    "print('SNR:', snr)"
   ]
  },
  {
   "cell_type": "code",
   "execution_count": 12,
   "metadata": {},
   "outputs": [],
   "source": [
    "# Performing Inverse Short Time Fourier Transform to get the output signal\n",
    "sh_test1 = librosa.istft(stest1, hop_length=512)\n",
    "sh_test2 = librosa.istft(stest2, hop_length=512)"
   ]
  },
  {
   "cell_type": "code",
   "execution_count": 13,
   "metadata": {},
   "outputs": [],
   "source": [
    "# Storing the cleaned test files\n",
    "librosa.output.write_wav(r'data\\test_x_03_clean.wav', sh_test1, sr)\n",
    "librosa.output.write_wav(r'data\\test_x_04_clean.wav', sh_test2, sr)"
   ]
  },
  {
   "cell_type": "markdown",
   "metadata": {},
   "source": [
    "The 1D CNN performs very well in denoising the speech signals. I didn't have to use too many layers to get a better output than the one I got using just a fuly connected network."
   ]
  },
  {
   "cell_type": "markdown",
   "metadata": {},
   "source": [
    "## Dirty Test Files\n",
    "#### Test Audio 1\n",
    "<audio src=\"data\\test_x_01.wav\" controls>Audio file not availablle</audio>\n",
    "#### Test Audio 2\n",
    "<audio src=\"data\\test_x_02.wav\" controls>Audio file not availablle</audio>\n",
    "## Cleaned Test Files\n",
    "#### Test Audio 1\n",
    "<audio src=\"data\\test_x_01_clean.wav\" controls>Audio file not availablle</audio>\n",
    "#### Test Audio 2\n",
    "<audio src=\"data\\test_x_02_clean.wav\" controls>Audio file not availablle</audio>"
   ]
  },
  {
   "cell_type": "code",
   "execution_count": 14,
   "metadata": {},
   "outputs": [],
   "source": [
    "# Deleting the model\n",
    "del model"
   ]
  },
  {
   "cell_type": "markdown",
   "metadata": {},
   "source": [
    "## TASK 2\n",
    "In this task we are doing the same thing as above but instead of using 1D CNN we are going to use 2D CNN here. Since 2D CNN require 3D (height, width and channel of image) we must first convert the training and testing audio files to 3D images with one channel, such that 20 continous frames, which form a image, are used to predict the output of last frame in the image. Since there's not enough frames to get predictions for first 19 frames, we prepend a set of 19 silent frames, that is audio signal with values close to 0, to training and testing audio files."
   ]
  },
  {
   "cell_type": "code",
   "execution_count": 16,
   "metadata": {},
   "outputs": [],
   "source": [
    "# Loading the .wav files\n",
    "# Ground Truth for training\n",
    "s, sr=librosa.load(r'data\\train_clean_male.wav', sr=None)\n",
    "S=librosa.stft(s, n_fft=1024, hop_length=512)\n",
    "# Unclean train file\n",
    "sn, sr=librosa.load(r'data\\train_dirty_male.wav', sr=None)\n",
    "X=librosa.stft(sn, n_fft=1024, hop_length=512)\n",
    "# Test 1\n",
    "tn, sr=librosa.load(r'data\\test_x_01.wav', sr=None)\n",
    "A = librosa.stft(tn, n_fft=1024, hop_length=512)\n",
    "# Test 2\n",
    "t, sr=librosa.load(r'data\\test_x_02.wav', sr=None)\n",
    "B = librosa.stft(t, n_fft=1024, hop_length=512)"
   ]
  },
  {
   "cell_type": "code",
   "execution_count": 17,
   "metadata": {},
   "outputs": [],
   "source": [
    "# Obtaining amplitude\n",
    "y_data = np.abs(S).T\n",
    "X_data = np.abs(X).T\n",
    "\n",
    "# Test Data\n",
    "X_test1 = np.abs(A).T\n",
    "X_test2 = np.abs(B).T"
   ]
  },
  {
   "cell_type": "code",
   "execution_count": 18,
   "metadata": {},
   "outputs": [],
   "source": [
    "# Adding silent frames to test data and obtaining 20x513 images from audio signal\n",
    "silent_test1 = np.random.normal(0, 0.00000000000001, (19,513))\n",
    "silent_test2 = np.random.normal(0, 0.00000000000001, (19,513))\n",
    "silent_train = np.random.normal(0, 0.00000000000001, (19,513))\n",
    "\n",
    "X_train = np.concatenate((silent_train, X_data))\n",
    "X_test1 = np.concatenate((silent_test1, X_test1))\n",
    "X_test2 = np.concatenate((silent_test2, X_test2))\n",
    "\n",
    "train_images = np.stack([X_train[i:i+20] for i in range(len(X_train)-19)])[:,:,:,np.newaxis]\n",
    "test1_images = np.stack([X_test1[i:i+20] for i in range(len(X_test1)-19)])[:,:,:,np.newaxis]\n",
    "test2_images = np.stack([X_test2[i:i+20] for i in range(len(X_test2)-19)])[:,:,:,np.newaxis]"
   ]
  },
  {
   "cell_type": "code",
   "execution_count": 19,
   "metadata": {},
   "outputs": [],
   "source": [
    "# Defining the model architecture\n",
    "model = Sequential()\n",
    "model.add(Conv2D(32, (3,3), input_shape = (20,513,1), padding='same', activation='relu', kernel_initializer='he_normal'))\n",
    "model.add(Conv2D(64, (3,3), padding='same', activation='relu', kernel_initializer='he_normal'))\n",
    "model.add(MaxPooling2D((2,2)))\n",
    "model.add(Conv2D(64, (3,3), padding = 'same', activation='relu', kernel_initializer='he_normal'))\n",
    "model.add(MaxPooling2D((2,2)))\n",
    "model.add(Conv2D(64, (3,3), padding = 'same', activation='relu', kernel_initializer='he_normal'))\n",
    "model.add(MaxPooling2D((2,2)))\n",
    "model.add(Flatten())\n",
    "model.add(Dense(2048, activation='relu', kernel_initializer='he_normal'))\n",
    "model.add(Dropout(0.3))\n",
    "model.add(Dense(513, activation='relu', kernel_initializer='he_normal'))"
   ]
  },
  {
   "cell_type": "code",
   "execution_count": 20,
   "metadata": {},
   "outputs": [
    {
     "name": "stdout",
     "output_type": "stream",
     "text": [
      "_________________________________________________________________\n",
      "Layer (type)                 Output Shape              Param #   \n",
      "=================================================================\n",
      "conv2d_1 (Conv2D)            (None, 20, 513, 32)       320       \n",
      "_________________________________________________________________\n",
      "conv2d_2 (Conv2D)            (None, 20, 513, 64)       18496     \n",
      "_________________________________________________________________\n",
      "max_pooling2d_1 (MaxPooling2 (None, 10, 256, 64)       0         \n",
      "_________________________________________________________________\n",
      "conv2d_3 (Conv2D)            (None, 10, 256, 64)       36928     \n",
      "_________________________________________________________________\n",
      "max_pooling2d_2 (MaxPooling2 (None, 5, 128, 64)        0         \n",
      "_________________________________________________________________\n",
      "conv2d_4 (Conv2D)            (None, 5, 128, 64)        36928     \n",
      "_________________________________________________________________\n",
      "max_pooling2d_3 (MaxPooling2 (None, 2, 64, 64)         0         \n",
      "_________________________________________________________________\n",
      "flatten_2 (Flatten)          (None, 8192)              0         \n",
      "_________________________________________________________________\n",
      "dense_3 (Dense)              (None, 2048)              16779264  \n",
      "_________________________________________________________________\n",
      "dropout_2 (Dropout)          (None, 2048)              0         \n",
      "_________________________________________________________________\n",
      "dense_4 (Dense)              (None, 513)               1051137   \n",
      "=================================================================\n",
      "Total params: 17,923,073\n",
      "Trainable params: 17,923,073\n",
      "Non-trainable params: 0\n",
      "_________________________________________________________________\n"
     ]
    }
   ],
   "source": [
    "model.summary()"
   ]
  },
  {
   "cell_type": "code",
   "execution_count": 21,
   "metadata": {},
   "outputs": [],
   "source": [
    "model.compile(loss = 'mse', optimizer = Adam(), metrics = ['accuracy'])"
   ]
  },
  {
   "cell_type": "code",
   "execution_count": 22,
   "metadata": {},
   "outputs": [
    {
     "name": "stdout",
     "output_type": "stream",
     "text": [
      "Epoch 1/100\n",
      "2459/2459 [==============================] - 6s 2ms/step - loss: 0.1919 - acc: 0.0216\n",
      "Epoch 2/100\n",
      "2459/2459 [==============================] - 3s 1ms/step - loss: 0.0943 - acc: 0.0277\n",
      "Epoch 3/100\n",
      "2459/2459 [==============================] - 3s 1ms/step - loss: 0.0898 - acc: 0.0390\n",
      "Epoch 4/100\n",
      "2459/2459 [==============================] - 3s 1ms/step - loss: 0.0862 - acc: 0.0586\n",
      "Epoch 5/100\n",
      "2459/2459 [==============================] - 3s 1ms/step - loss: 0.0827 - acc: 0.0740\n",
      "Epoch 6/100\n",
      "2459/2459 [==============================] - 3s 1ms/step - loss: 0.0807 - acc: 0.0964\n",
      "Epoch 7/100\n",
      "2459/2459 [==============================] - 3s 1ms/step - loss: 0.0760 - acc: 0.0988\n",
      "Epoch 8/100\n",
      "2459/2459 [==============================] - 3s 1ms/step - loss: 0.0728 - acc: 0.1086\n",
      "Epoch 9/100\n",
      "2459/2459 [==============================] - 3s 1ms/step - loss: 0.0692 - acc: 0.1208\n",
      "Epoch 10/100\n",
      "2459/2459 [==============================] - 3s 1ms/step - loss: 0.0636 - acc: 0.1509\n",
      "Epoch 11/100\n",
      "2459/2459 [==============================] - 3s 1ms/step - loss: 0.0576 - acc: 0.1553\n",
      "Epoch 12/100\n",
      "2459/2459 [==============================] - 3s 1ms/step - loss: 0.0518 - acc: 0.1728\n",
      "Epoch 13/100\n",
      "2459/2459 [==============================] - 3s 1ms/step - loss: 0.0478 - acc: 0.2090\n",
      "Epoch 14/100\n",
      "2459/2459 [==============================] - 3s 1ms/step - loss: 0.0438 - acc: 0.2168\n",
      "Epoch 15/100\n",
      "2459/2459 [==============================] - 3s 1ms/step - loss: 0.0391 - acc: 0.2403\n",
      "Epoch 16/100\n",
      "2459/2459 [==============================] - 3s 1ms/step - loss: 0.0354 - acc: 0.2546\n",
      "Epoch 17/100\n",
      "2459/2459 [==============================] - 3s 1ms/step - loss: 0.0316 - acc: 0.2672\n",
      "Epoch 18/100\n",
      "2459/2459 [==============================] - 3s 1ms/step - loss: 0.0287 - acc: 0.2782\n",
      "Epoch 19/100\n",
      "2459/2459 [==============================] - 3s 1ms/step - loss: 0.0250 - acc: 0.2855A: 2s - loss: 0.0270 \n",
      "Epoch 20/100\n",
      "2459/2459 [==============================] - 3s 1ms/step - loss: 0.0222 - acc: 0.3038\n",
      "Epoch 21/100\n",
      "2459/2459 [==============================] - 3s 1ms/step - loss: 0.0208 - acc: 0.3184\n",
      "Epoch 22/100\n",
      "2459/2459 [==============================] - 3s 1ms/step - loss: 0.0205 - acc: 0.3343\n",
      "Epoch 23/100\n",
      "2459/2459 [==============================] - 4s 1ms/step - loss: 0.0194 - acc: 0.3298\n",
      "Epoch 24/100\n",
      "2459/2459 [==============================] - 4s 1ms/step - loss: 0.0208 - acc: 0.3205\n",
      "Epoch 25/100\n",
      "2459/2459 [==============================] - 4s 1ms/step - loss: 0.0196 - acc: 0.3237\n",
      "Epoch 26/100\n",
      "2459/2459 [==============================] - 4s 2ms/step - loss: 0.0155 - acc: 0.3339\n",
      "Epoch 27/100\n",
      "2459/2459 [==============================] - 4s 2ms/step - loss: 0.0135 - acc: 0.3587\n",
      "Epoch 28/100\n",
      "2459/2459 [==============================] - 4s 2ms/step - loss: 0.0127 - acc: 0.3672\n",
      "Epoch 29/100\n",
      "2459/2459 [==============================] - 4s 2ms/step - loss: 0.0126 - acc: 0.3660\n",
      "Epoch 30/100\n",
      "2459/2459 [==============================] - 4s 2ms/step - loss: 0.0118 - acc: 0.3851\n",
      "Epoch 31/100\n",
      "2459/2459 [==============================] - 4s 2ms/step - loss: 0.0113 - acc: 0.3896\n",
      "Epoch 32/100\n",
      "2459/2459 [==============================] - 4s 2ms/step - loss: 0.0115 - acc: 0.3835\n",
      "Epoch 33/100\n",
      "2459/2459 [==============================] - 4s 2ms/step - loss: 0.0107 - acc: 0.3859\n",
      "Epoch 34/100\n",
      "2459/2459 [==============================] - 4s 2ms/step - loss: 0.0102 - acc: 0.3945\n",
      "Epoch 35/100\n",
      "2459/2459 [==============================] - 4s 2ms/step - loss: 0.0104 - acc: 0.4018\n",
      "Epoch 36/100\n",
      "2459/2459 [==============================] - 4s 2ms/step - loss: 0.0114 - acc: 0.3900\n",
      "Epoch 37/100\n",
      "2459/2459 [==============================] - 4s 2ms/step - loss: 0.0109 - acc: 0.3941\n",
      "Epoch 38/100\n",
      "2459/2459 [==============================] - 4s 2ms/step - loss: 0.0101 - acc: 0.4087\n",
      "Epoch 39/100\n",
      "2459/2459 [==============================] - 4s 2ms/step - loss: 0.0094 - acc: 0.3998\n",
      "Epoch 40/100\n",
      "2459/2459 [==============================] - 4s 2ms/step - loss: 0.0090 - acc: 0.4262\n",
      "Epoch 41/100\n",
      "2459/2459 [==============================] - 4s 2ms/step - loss: 0.0085 - acc: 0.4136\n",
      "Epoch 42/100\n",
      "2459/2459 [==============================] - 6s 2ms/step - loss: 0.0078 - acc: 0.4319\n",
      "Epoch 43/100\n",
      "2459/2459 [==============================] - 6s 2ms/step - loss: 0.0077 - acc: 0.4364\n",
      "Epoch 44/100\n",
      "2459/2459 [==============================] - 4s 2ms/step - loss: 0.0075 - acc: 0.4335\n",
      "Epoch 45/100\n",
      "2459/2459 [==============================] - 4s 2ms/step - loss: 0.0072 - acc: 0.4319\n",
      "Epoch 46/100\n",
      "2459/2459 [==============================] - 4s 2ms/step - loss: 0.0070 - acc: 0.4461\n",
      "Epoch 47/100\n",
      "2459/2459 [==============================] - 4s 2ms/step - loss: 0.0067 - acc: 0.4392\n",
      "Epoch 48/100\n",
      "2459/2459 [==============================] - 4s 2ms/step - loss: 0.0069 - acc: 0.4603\n",
      "Epoch 49/100\n",
      "2459/2459 [==============================] - 4s 2ms/step - loss: 0.0081 - acc: 0.4221\n",
      "Epoch 50/100\n",
      "2459/2459 [==============================] - 4s 2ms/step - loss: 0.0071 - acc: 0.4563\n",
      "Epoch 51/100\n",
      "2459/2459 [==============================] - 6s 2ms/step - loss: 0.0080 - acc: 0.4514\n",
      "Epoch 52/100\n",
      "2459/2459 [==============================] - 5s 2ms/step - loss: 0.0097 - acc: 0.4335\n",
      "Epoch 53/100\n",
      "2459/2459 [==============================] - 6s 3ms/step - loss: 0.0077 - acc: 0.4465\n",
      "Epoch 54/100\n",
      "2459/2459 [==============================] - 5s 2ms/step - loss: 0.0066 - acc: 0.4433\n",
      "Epoch 55/100\n",
      "2459/2459 [==============================] - 5s 2ms/step - loss: 0.0065 - acc: 0.4640\n",
      "Epoch 56/100\n",
      "2459/2459 [==============================] - 5s 2ms/step - loss: 0.0062 - acc: 0.4599\n",
      "Epoch 57/100\n",
      "2459/2459 [==============================] - 4s 2ms/step - loss: 0.0063 - acc: 0.4652\n",
      "Epoch 58/100\n",
      "2459/2459 [==============================] - 4s 2ms/step - loss: 0.0059 - acc: 0.4766\n",
      "Epoch 59/100\n",
      "2459/2459 [==============================] - 5s 2ms/step - loss: 0.0057 - acc: 0.4811\n",
      "Epoch 60/100\n",
      "2459/2459 [==============================] - 5s 2ms/step - loss: 0.0059 - acc: 0.4843\n",
      "Epoch 61/100\n",
      "2459/2459 [==============================] - 5s 2ms/step - loss: 0.0057 - acc: 0.4774\n",
      "Epoch 62/100\n",
      "2459/2459 [==============================] - 5s 2ms/step - loss: 0.0057 - acc: 0.4778\n",
      "Epoch 63/100\n",
      "2459/2459 [==============================] - 5s 2ms/step - loss: 0.0057 - acc: 0.4880\n",
      "Epoch 64/100\n",
      "2459/2459 [==============================] - 5s 2ms/step - loss: 0.0057 - acc: 0.4697\n",
      "Epoch 65/100\n",
      "2459/2459 [==============================] - 5s 2ms/step - loss: 0.0059 - acc: 0.4681\n",
      "Epoch 66/100\n",
      "2459/2459 [==============================] - 5s 2ms/step - loss: 0.0055 - acc: 0.4823\n",
      "Epoch 67/100\n",
      "2459/2459 [==============================] - 5s 2ms/step - loss: 0.0053 - acc: 0.4868\n",
      "Epoch 68/100\n",
      "2459/2459 [==============================] - 5s 2ms/step - loss: 0.0065 - acc: 0.4896\n",
      "Epoch 69/100\n",
      "2459/2459 [==============================] - 5s 2ms/step - loss: 0.0059 - acc: 0.4803\n",
      "Epoch 70/100\n",
      "2459/2459 [==============================] - 5s 2ms/step - loss: 0.0053 - acc: 0.4904\n",
      "Epoch 71/100\n",
      "2459/2459 [==============================] - 5s 2ms/step - loss: 0.0050 - acc: 0.4925\n",
      "Epoch 72/100\n",
      "2459/2459 [==============================] - 5s 2ms/step - loss: 0.0048 - acc: 0.4978\n",
      "Epoch 73/100\n",
      "2459/2459 [==============================] - 5s 2ms/step - loss: 0.0049 - acc: 0.4982\n",
      "Epoch 74/100\n",
      "2459/2459 [==============================] - 5s 2ms/step - loss: 0.0051 - acc: 0.5067\n",
      "Epoch 75/100\n",
      "2459/2459 [==============================] - 5s 2ms/step - loss: 0.0055 - acc: 0.5022\n",
      "Epoch 76/100\n",
      "2459/2459 [==============================] - 5s 2ms/step - loss: 0.0057 - acc: 0.4908\n",
      "Epoch 77/100\n",
      "2459/2459 [==============================] - 5s 2ms/step - loss: 0.0048 - acc: 0.5083\n",
      "Epoch 78/100\n",
      "2459/2459 [==============================] - 5s 2ms/step - loss: 0.0047 - acc: 0.5132\n",
      "Epoch 79/100\n",
      "2459/2459 [==============================] - 5s 2ms/step - loss: 0.0044 - acc: 0.5022\n",
      "Epoch 80/100\n",
      "2459/2459 [==============================] - 5s 2ms/step - loss: 0.0045 - acc: 0.5075\n",
      "Epoch 81/100\n",
      "2459/2459 [==============================] - 5s 2ms/step - loss: 0.0043 - acc: 0.5153\n",
      "Epoch 82/100\n",
      "2459/2459 [==============================] - 5s 2ms/step - loss: 0.0049 - acc: 0.5242\n",
      "Epoch 83/100\n",
      "2459/2459 [==============================] - 5s 2ms/step - loss: 0.0054 - acc: 0.5059\n",
      "Epoch 84/100\n",
      "2459/2459 [==============================] - 5s 2ms/step - loss: 0.0047 - acc: 0.5128\n",
      "Epoch 85/100\n",
      "2459/2459 [==============================] - 7s 3ms/step - loss: 0.0044 - acc: 0.5071\n",
      "Epoch 86/100\n",
      "2459/2459 [==============================] - 4s 2ms/step - loss: 0.0049 - acc: 0.5075\n",
      "Epoch 87/100\n",
      "2459/2459 [==============================] - 5s 2ms/step - loss: 0.0045 - acc: 0.5124\n",
      "Epoch 88/100\n",
      "2459/2459 [==============================] - 5s 2ms/step - loss: 0.0043 - acc: 0.5161\n",
      "Epoch 89/100\n",
      "2459/2459 [==============================] - 5s 2ms/step - loss: 0.0044 - acc: 0.5262\n",
      "Epoch 90/100\n",
      "2459/2459 [==============================] - 5s 2ms/step - loss: 0.0044 - acc: 0.5238\n",
      "Epoch 91/100\n",
      "2459/2459 [==============================] - 5s 2ms/step - loss: 0.0044 - acc: 0.5266\n",
      "Epoch 92/100\n",
      "2459/2459 [==============================] - 5s 2ms/step - loss: 0.0041 - acc: 0.5214\n",
      "Epoch 93/100\n",
      "2459/2459 [==============================] - 5s 2ms/step - loss: 0.0042 - acc: 0.5193\n",
      "Epoch 94/100\n",
      "2459/2459 [==============================] - 5s 2ms/step - loss: 0.0041 - acc: 0.5181\n",
      "Epoch 95/100\n",
      "2459/2459 [==============================] - 5s 2ms/step - loss: 0.0042 - acc: 0.5083\n",
      "Epoch 96/100\n",
      "2459/2459 [==============================] - 5s 2ms/step - loss: 0.0040 - acc: 0.5336\n",
      "Epoch 97/100\n",
      "2459/2459 [==============================] - 5s 2ms/step - loss: 0.0040 - acc: 0.5242\n",
      "Epoch 98/100\n",
      "2459/2459 [==============================] - 5s 2ms/step - loss: 0.0039 - acc: 0.5303\n",
      "Epoch 99/100\n",
      "2459/2459 [==============================] - 5s 2ms/step - loss: 0.0046 - acc: 0.5270\n",
      "Epoch 100/100\n",
      "2459/2459 [==============================] - 5s 2ms/step - loss: 0.0044 - acc: 0.5177\n"
     ]
    }
   ],
   "source": [
    "history = model.fit(train_images, y_data, epochs = 100, batch_size = 128)"
   ]
  },
  {
   "cell_type": "code",
   "execution_count": 23,
   "metadata": {},
   "outputs": [],
   "source": [
    "# Getting output prediction for test files and modified train file\n",
    "outt = model.predict(train_images)\n",
    "out1 = model.predict(test1_images)\n",
    "out2 = model.predict(test2_images)"
   ]
  },
  {
   "cell_type": "code",
   "execution_count": 24,
   "metadata": {},
   "outputs": [],
   "source": [
    "# Adding phase information\n",
    "stestt = (X/np.abs(X))*outt.T\n",
    "stest1 = (A/np.abs(A))*out1.T\n",
    "stest2 = (B/np.abs(B))*out2.T"
   ]
  },
  {
   "cell_type": "code",
   "execution_count": 25,
   "metadata": {},
   "outputs": [
    {
     "name": "stdout",
     "output_type": "stream",
     "text": [
      "SNR for training file: 18.000774765102587\n"
     ]
    }
   ],
   "source": [
    "# SNR for training data\n",
    "snr = 10*np.log10(np.add.reduce(np.square(S), axis = None)/np.add.reduce(np.square(S-stestt), axis = None))\n",
    "print('SNR for training file:', np.abs(snr))"
   ]
  },
  {
   "cell_type": "code",
   "execution_count": 26,
   "metadata": {},
   "outputs": [],
   "source": [
    "# Performing Inverse Short Time Fourier Transform to get the output signal\n",
    "sh_test2 = librosa.istft(stest1, hop_length=512)\n",
    "sh_test3 = librosa.istft(stest2, hop_length=512)"
   ]
  },
  {
   "cell_type": "code",
   "execution_count": 27,
   "metadata": {},
   "outputs": [],
   "source": [
    "# Storing the cleaned test files\n",
    "librosa.output.write_wav(r'data\\test_x_03_clean.wav', sh_test2, sr)\n",
    "librosa.output.write_wav(r'data\\test_x_04_clean.wav', sh_test3, sr)"
   ]
  },
  {
   "cell_type": "markdown",
   "metadata": {},
   "source": [
    "The 2D CNN isn't working as well as I expected it to. I tried **many** network architectures but still could not find satisfactory results. The noise of eating chips is lower in the output files and, similar to all the networks used before, the voice sounds computer generated and does not feel natural at all. There's also artifacts in the output speech signal similar to the output of all the networks used before.\n",
    "Note: Sometimes the 2D CNN network gets stuck into local minima at the very beginning due to bad initializations (maybe!). Retraining the network fixes this!!"
   ]
  },
  {
   "cell_type": "markdown",
   "metadata": {},
   "source": [
    "## Dirty Test Files\n",
    "#### Test Audio 1\n",
    "<audio src=\"data\\test_x_01.wav\" controls>Audio file not availablle</audio>\n",
    "#### Test Audio 2\n",
    "<audio src=\"data\\test_x_02.wav\" controls>Audio file not availablle</audio>\n",
    "## Cleaned Test Files\n",
    "#### Test Audio 1\n",
    "<audio src=\"data\\test_x_03_clean.wav\" controls>Audio file not availablle</audio>\n",
    "#### Test Audio 2\n",
    "<audio src=\"data\\test_x_04_clean.wav\" controls>Audio file not availablle</audio>"
   ]
  },
  {
   "cell_type": "code",
   "execution_count": 28,
   "metadata": {},
   "outputs": [],
   "source": [
    "# Deleting the model\n",
    "del model"
   ]
  }
 ],
 "metadata": {
  "kernelspec": {
   "display_name": "Python 3",
   "language": "python",
   "name": "python3"
  },
  "language_info": {
   "codemirror_mode": {
    "name": "ipython",
    "version": 3
   },
   "file_extension": ".py",
   "mimetype": "text/x-python",
   "name": "python",
   "nbconvert_exporter": "python",
   "pygments_lexer": "ipython3",
   "version": "3.7.3"
  }
 },
 "nbformat": 4,
 "nbformat_minor": 4
}
